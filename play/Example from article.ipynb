{
 "cells": [
  {
   "cell_type": "code",
   "execution_count": 22,
   "metadata": {
    "collapsed": false
   },
   "outputs": [
    {
     "name": "stdout",
     "output_type": "stream",
     "text": [
      "Populating the interactive namespace from numpy and matplotlib\n"
     ]
    },
    {
     "name": "stderr",
     "output_type": "stream",
     "text": [
      "/usr/local/lib/python2.7/dist-packages/IPython/core/magics/pylab.py:161: UserWarning: pylab import has clobbered these variables: ['nonzero']\n",
      "`%matplotlib` prevents importing * from pylab and numpy\n",
      "  \"\\n`%matplotlib` prevents importing * from pylab and numpy\"\n"
     ]
    }
   ],
   "source": [
    "%pylab inline\n",
    "%config InlineBackend.figure_format = 'retina'"
   ]
  },
  {
   "cell_type": "code",
   "execution_count": 31,
   "metadata": {
    "collapsed": true
   },
   "outputs": [],
   "source": [
    "def orthogonal_matching_pursuit(reference, dictionary, tolerance, sparsity=None):\n",
    "    \"\"\"\n",
    "    @brief      Find the minimum set of vectors (big_theta) in the \n",
    "                dictionary so that \n",
    "                max(abs(reference - numpy.dot(big_theta.T, coeffs))) < tolerance\n",
    "    \n",
    "    @param      reference   1D numpy.array of length N that we want to \n",
    "                            approximate\n",
    "    @param      dictionary  list of numpy.array`s of length N representing\n",
    "                            the \"atoms\" or \"basis\"-vectors \n",
    "    @param      tolerance   Approximation tolerance\n",
    "    \n",
    "    @return     big_lambda, coeffs, big_theta\n",
    "\n",
    "                big_lambda  list of atom indices representing the sparse\n",
    "                            solution\n",
    "                coeffs      coefficients for the sparse solution\n",
    "                big_theta   atoms of sparse solution\n",
    "\n",
    "    Usage:\n",
    "        _, coeffs, big_theta = orthogonal_matching_pursuit(reference, \n",
    "                                                           dictionary, \n",
    "                                                           tolerance)\n",
    "        approximation = numpy.dot(big_theta.T, coeffs)\n",
    "        max(abs(approximation - reference)) < tolerance: True!\n",
    "    Reference:\n",
    "        Algorithm straight from \n",
    "        Signal Recovery From Random Measurements Via Orthogonal Matching Pursuit\n",
    "        Joel A. Tropp and Anna C. Gilbert\n",
    "        IEEE Transactions on Information Theory, Vol. 53, NO. 12, December 2007\n",
    "    \"\"\"\n",
    "    residual = reference.copy()\n",
    "    big_lambda = []\n",
    "    big_theta = None \n",
    "    rows = []\n",
    "    for n in range(len(dictionary)):\n",
    "        index = numpy.argmax([abs(residual.dot(d)) for d in dictionary])\n",
    "        rows.append(index)\n",
    "        big_lambda.append(index)\n",
    "        theta = dictionary[index]\n",
    "        if big_theta is None:\n",
    "            big_theta = theta.reshape((1,theta.size))\n",
    "        else: \n",
    "            big_theta = numpy.vstack((big_theta,theta))\n",
    "\n",
    "        coeffs         = numpy.linalg.lstsq(big_theta.T, reference)[0]\n",
    "        reconstruction = numpy.dot(big_theta.T,coeffs)\n",
    "        residual       = reference - reconstruction\n",
    "        if abs(residual).max() < tolerance:\n",
    "            break\n",
    "        if sparsity is not None and n == sparsity:\n",
    "            break\n",
    "    if n == len(dictionary)-1:\n",
    "        print \"Did not converge, final residual: \",abs(residual).max()\n",
    "    return big_lambda, coeffs, big_theta, rows "
   ]
  },
  {
   "cell_type": "code",
   "execution_count": 18,
   "metadata": {
    "collapsed": false
   },
   "outputs": [],
   "source": [
    "import sys\n",
    "import collections\n",
    "sys.path.insert(0, \"../build\")\n",
    "\n",
    "\n",
    "import numpy as np\n",
    "import _gols as gols\n",
    "# import gols\n",
    "# Problem setup as described in the paper:\n",
    "n = 64\n",
    "m = 128\n",
    "samples = 1000\n",
    "L = 2\n",
    "np.random.seed(1)\n",
    "errors = collections.defaultdict(list)\n",
    "perfect = collections.defaultdict(list)\n",
    "for s in xrange(samples):\n",
    "    variance = 1 / float(n)\n",
    "    A = np.sqrt(variance) * np.random.randn(n, m)\n",
    "    for k in xrange(1,30):\n",
    "        nonzero = np.random.choice(m, size=k, replace=False)\n",
    "        x = np.zeros(m)\n",
    "        x[nonzero] = np.random.randn(k)\n",
    "        y = A.dot(x)\n",
    "        columns, _ = gols.gols_solve(A.T, y, k, L, False)\n",
    "        Asparse = np.vstack([A[:,c] for c in columns]).T   \n",
    "        xsrecon, _, _, _ = np.linalg.lstsq(Asparse, y)\n",
    "        xrecon = np.zeros_like(x)\n",
    "        xrecon[columns] = xsrecon[:]\n",
    "        errors[k].append(((x - xrecon)**2).mean())        \n",
    "        perfect[k].append(int(np.allclose(x, xrecon)))\n",
    "mean_errors = []\n",
    "for k in sorted(errors):\n",
    "    mean_errors.append(np.mean(errors[k]))"
   ]
  },
  {
   "cell_type": "code",
   "execution_count": 23,
   "metadata": {
    "collapsed": false
   },
   "outputs": [],
   "source": [
    "mean_perfect = []\n",
    "for k in sorted(perfect):\n",
    "    mean_perfect.append(np.mean(perfect[k]))"
   ]
  },
  {
   "cell_type": "code",
   "execution_count": 32,
   "metadata": {
    "collapsed": false
   },
   "outputs": [],
   "source": [
    "# Problem setup as described in the paper:\n",
    "n = 64\n",
    "m = 128\n",
    "samples = 100\n",
    "L = 2\n",
    "np.random.seed(1)\n",
    "errors = collections.defaultdict(list)\n",
    "perfect = collections.defaultdict(list)\n",
    "for s in xrange(samples):\n",
    "    variance = 1 / float(n)\n",
    "    A = np.sqrt(variance) * np.random.randn(n, m)\n",
    "    for k in xrange(1,30):\n",
    "        nonzero = np.random.choice(m, size=k, replace=False)\n",
    "        x = np.zeros(m)\n",
    "        x[nonzero] = np.random.randn(k)\n",
    "        y = A.dot(x)\n",
    "        _, _, _, rows = orthogonal_matching_pursuit(y, A.T, 0.0, k)\n",
    "        Asparse = np.vstack([A[:,c] for c in columns]).T   \n",
    "        xsrecon, _, _, _ = np.linalg.lstsq(Asparse, y)\n",
    "        xrecon = np.zeros_like(x)\n",
    "        xrecon[columns] = xsrecon[:]\n",
    "        errors[k].append(((x - xrecon)**2).mean())        \n",
    "        perfect[k].append(int(np.allclose(x, xrecon)))\n",
    "mean_errors = []\n",
    "for k in sorted(errors):\n",
    "    mean_errors.append(np.mean(errors[k]))"
   ]
  },
  {
   "cell_type": "code",
   "execution_count": 35,
   "metadata": {
    "collapsed": false
   },
   "outputs": [
    {
     "data": {
      "text/plain": [
       "[<matplotlib.lines.Line2D at 0x7fbca7168e10>]"
      ]
     },
     "execution_count": 35,
     "metadata": {},
     "output_type": "execute_result"
    },
    {
     "data": {
      "image/png": "[encoded data removed]",
      "text/plain": [
       "<matplotlib.figure.Figure at 0x7fbca7168e50>"
      ]
     },
     "metadata": {
      "image/png": {
       "height": 250,
       "width": 381
      }
     },
     "output_type": "display_data"
    }
   ],
   "source": [
    "mean_perfect2 = []\n",
    "for k in sorted(perfect):\n",
    "    mean_perfect2.append(np.mean(perfect[k]))\n",
    "semilogy(mean_perfect)\n",
    "semilogy(mean_perfect2)"
   ]
  },
  {
   "cell_type": "code",
   "execution_count": 15,
   "metadata": {
    "collapsed": false
   },
   "outputs": [],
   "source": [
    "for i in range(100):\n",
    "    assert len(set(np.random.choice(m, 20, replace=False)))==20"
   ]
  },
  {
   "cell_type": "code",
   "execution_count": 7,
   "metadata": {
    "collapsed": true
   },
   "outputs": [],
   "source": [
    "import sys\n",
    "import collections\n",
    "sys.path.insert(0, \"../build\")\n",
    "\n",
    "\n",
    "import numpy as np\n",
    "import _gols as gols\n",
    "# import gols\n",
    "# Problem setup as described in the paper:\n",
    "n = 64\n",
    "m = 128\n",
    "samples = 100\n",
    "L = 3\n",
    "np.random.seed(1)\n",
    "errors = collections.defaultdict(list)\n",
    "for s in xrange(samples):\n",
    "    variance = 1 / float(n)\n",
    "    A = np.sqrt(variance) * np.random.randn(n, m)\n",
    "    for k in xrange(1,30):\n",
    "        nonzero = np.random.randint(m, size=k)\n",
    "        x = np.zeros(m)\n",
    "        x[nonzero] = np.random.randn(k)\n",
    "        y = A.dot(x)\n",
    "        columns, _ = gols.gols_solve(A.T, y, k, L, False)\n",
    "        Asparse = np.vstack([A[:,c] for c in columns]).T   \n",
    "        xsrecon, _, _, _ = np.linalg.lstsq(Asparse, y)\n",
    "        xrecon = np.zeros_like(x)\n",
    "        xrecon[columns] = xsrecon[:]\n",
    "        errors[k].append(((x - xrecon)**2).mean())        \n",
    "\n",
    "mean_errors = []\n",
    "for k in sorted(errors):\n",
    "    mean_errors.append(np.mean(errors[k]))"
   ]
  },
  {
   "cell_type": "code",
   "execution_count": 8,
   "metadata": {
    "collapsed": false
   },
   "outputs": [
    {
     "data": {
      "text/plain": [
       "[<matplotlib.lines.Line2D at 0x7fbca77b7c50>]"
      ]
     },
     "execution_count": 8,
     "metadata": {},
     "output_type": "execute_result"
    },
    {
     "data": {
      "image/png": "[encoded data removed]",
      "text/plain": [
       "<matplotlib.figure.Figure at 0x7fbcac0ea490>"
      ]
     },
     "metadata": {},
     "output_type": "display_data"
    }
   ],
   "source": [
    "semilogy(mean_errors)"
   ]
  },
  {
   "cell_type": "code",
   "execution_count": null,
   "metadata": {
    "collapsed": true
   },
   "outputs": [],
   "source": []
  }
 ],
 "metadata": {
  "kernelspec": {
   "display_name": "Python 2",
   "language": "python",
   "name": "python2"
  },
  "language_info": {
   "codemirror_mode": {
    "name": "ipython",
    "version": 2
   },
   "file_extension": ".py",
   "mimetype": "text/x-python",
   "name": "python",
   "nbconvert_exporter": "python",
   "pygments_lexer": "ipython2",
   "version": "2.7.12"
  }
 },
 "nbformat": 4,
 "nbformat_minor": 2
}
